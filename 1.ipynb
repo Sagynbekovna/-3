{
  "nbformat": 4,
  "nbformat_minor": 0,
  "metadata": {
    "colab": {
      "provenance": [],
      "authorship_tag": "ABX9TyPjIKFJr2sKV0WOAOgWMpiL",
      "include_colab_link": true
    },
    "kernelspec": {
      "name": "python3",
      "display_name": "Python 3"
    },
    "language_info": {
      "name": "python"
    }
  },
  "cells": [
    {
      "cell_type": "markdown",
      "metadata": {
        "id": "view-in-github",
        "colab_type": "text"
      },
      "source": [
        "<a href=\"https://colab.research.google.com/github/Sagynbekovna/-3/blob/main/1.ipynb\" target=\"_parent\"><img src=\"https://colab.research.google.com/assets/colab-badge.svg\" alt=\"Open In Colab\"/></a>"
      ]
    },
    {
      "cell_type": "markdown",
      "source": [
        "# Маалыматтарды даярдоо"
      ],
      "metadata": {
        "id": "9OQPw83W4E--"
      }
    },
    {
      "cell_type": "code",
      "source": [
        "import numpy as np\n",
        "import pandas as pd\n",
        "import matplotlib.pyplot as plt\n",
        "import seaborn as sns"
      ],
      "metadata": {
        "id": "LhZPM3pv_cTJ"
      },
      "execution_count": null,
      "outputs": []
    },
    {
      "cell_type": "code",
      "source": [
        "import pandas as pd\n",
        "from google.colab import files\n",
        "\n",
        "uploaded = files.upload()\n",
        "\n",
        "excel_data = pd.read_excel('medical1.xlsx', sheet_name=None)\n",
        "\n",
        "for sheet_name, data in excel_data.items():\n",
        "    print(f\"Лист: {sheet_name}\")\n",
        "    display(data)"
      ],
      "metadata": {
        "colab": {
          "base_uri": "https://localhost:8080/",
          "height": 2374
        },
        "id": "3w4iLqPTw25x",
        "outputId": "c87c5cdf-4703-4d0c-993f-da74c4a1b372"
      },
      "execution_count": null,
      "outputs": [
        {
          "output_type": "display_data",
          "data": {
            "text/plain": [
              "<IPython.core.display.HTML object>"
            ],
            "text/html": [
              "\n",
              "     <input type=\"file\" id=\"files-47713128-aa81-4547-8514-4cc4421a29f7\" name=\"files[]\" multiple disabled\n",
              "        style=\"border:none\" />\n",
              "     <output id=\"result-47713128-aa81-4547-8514-4cc4421a29f7\">\n",
              "      Upload widget is only available when the cell has been executed in the\n",
              "      current browser session. Please rerun this cell to enable.\n",
              "      </output>\n",
              "      <script>// Copyright 2017 Google LLC\n",
              "//\n",
              "// Licensed under the Apache License, Version 2.0 (the \"License\");\n",
              "// you may not use this file except in compliance with the License.\n",
              "// You may obtain a copy of the License at\n",
              "//\n",
              "//      http://www.apache.org/licenses/LICENSE-2.0\n",
              "//\n",
              "// Unless required by applicable law or agreed to in writing, software\n",
              "// distributed under the License is distributed on an \"AS IS\" BASIS,\n",
              "// WITHOUT WARRANTIES OR CONDITIONS OF ANY KIND, either express or implied.\n",
              "// See the License for the specific language governing permissions and\n",
              "// limitations under the License.\n",
              "\n",
              "/**\n",
              " * @fileoverview Helpers for google.colab Python module.\n",
              " */\n",
              "(function(scope) {\n",
              "function span(text, styleAttributes = {}) {\n",
              "  const element = document.createElement('span');\n",
              "  element.textContent = text;\n",
              "  for (const key of Object.keys(styleAttributes)) {\n",
              "    element.style[key] = styleAttributes[key];\n",
              "  }\n",
              "  return element;\n",
              "}\n",
              "\n",
              "// Max number of bytes which will be uploaded at a time.\n",
              "const MAX_PAYLOAD_SIZE = 100 * 1024;\n",
              "\n",
              "function _uploadFiles(inputId, outputId) {\n",
              "  const steps = uploadFilesStep(inputId, outputId);\n",
              "  const outputElement = document.getElementById(outputId);\n",
              "  // Cache steps on the outputElement to make it available for the next call\n",
              "  // to uploadFilesContinue from Python.\n",
              "  outputElement.steps = steps;\n",
              "\n",
              "  return _uploadFilesContinue(outputId);\n",
              "}\n",
              "\n",
              "// This is roughly an async generator (not supported in the browser yet),\n",
              "// where there are multiple asynchronous steps and the Python side is going\n",
              "// to poll for completion of each step.\n",
              "// This uses a Promise to block the python side on completion of each step,\n",
              "// then passes the result of the previous step as the input to the next step.\n",
              "function _uploadFilesContinue(outputId) {\n",
              "  const outputElement = document.getElementById(outputId);\n",
              "  const steps = outputElement.steps;\n",
              "\n",
              "  const next = steps.next(outputElement.lastPromiseValue);\n",
              "  return Promise.resolve(next.value.promise).then((value) => {\n",
              "    // Cache the last promise value to make it available to the next\n",
              "    // step of the generator.\n",
              "    outputElement.lastPromiseValue = value;\n",
              "    return next.value.response;\n",
              "  });\n",
              "}\n",
              "\n",
              "/**\n",
              " * Generator function which is called between each async step of the upload\n",
              " * process.\n",
              " * @param {string} inputId Element ID of the input file picker element.\n",
              " * @param {string} outputId Element ID of the output display.\n",
              " * @return {!Iterable<!Object>} Iterable of next steps.\n",
              " */\n",
              "function* uploadFilesStep(inputId, outputId) {\n",
              "  const inputElement = document.getElementById(inputId);\n",
              "  inputElement.disabled = false;\n",
              "\n",
              "  const outputElement = document.getElementById(outputId);\n",
              "  outputElement.innerHTML = '';\n",
              "\n",
              "  const pickedPromise = new Promise((resolve) => {\n",
              "    inputElement.addEventListener('change', (e) => {\n",
              "      resolve(e.target.files);\n",
              "    });\n",
              "  });\n",
              "\n",
              "  const cancel = document.createElement('button');\n",
              "  inputElement.parentElement.appendChild(cancel);\n",
              "  cancel.textContent = 'Cancel upload';\n",
              "  const cancelPromise = new Promise((resolve) => {\n",
              "    cancel.onclick = () => {\n",
              "      resolve(null);\n",
              "    };\n",
              "  });\n",
              "\n",
              "  // Wait for the user to pick the files.\n",
              "  const files = yield {\n",
              "    promise: Promise.race([pickedPromise, cancelPromise]),\n",
              "    response: {\n",
              "      action: 'starting',\n",
              "    }\n",
              "  };\n",
              "\n",
              "  cancel.remove();\n",
              "\n",
              "  // Disable the input element since further picks are not allowed.\n",
              "  inputElement.disabled = true;\n",
              "\n",
              "  if (!files) {\n",
              "    return {\n",
              "      response: {\n",
              "        action: 'complete',\n",
              "      }\n",
              "    };\n",
              "  }\n",
              "\n",
              "  for (const file of files) {\n",
              "    const li = document.createElement('li');\n",
              "    li.append(span(file.name, {fontWeight: 'bold'}));\n",
              "    li.append(span(\n",
              "        `(${file.type || 'n/a'}) - ${file.size} bytes, ` +\n",
              "        `last modified: ${\n",
              "            file.lastModifiedDate ? file.lastModifiedDate.toLocaleDateString() :\n",
              "                                    'n/a'} - `));\n",
              "    const percent = span('0% done');\n",
              "    li.appendChild(percent);\n",
              "\n",
              "    outputElement.appendChild(li);\n",
              "\n",
              "    const fileDataPromise = new Promise((resolve) => {\n",
              "      const reader = new FileReader();\n",
              "      reader.onload = (e) => {\n",
              "        resolve(e.target.result);\n",
              "      };\n",
              "      reader.readAsArrayBuffer(file);\n",
              "    });\n",
              "    // Wait for the data to be ready.\n",
              "    let fileData = yield {\n",
              "      promise: fileDataPromise,\n",
              "      response: {\n",
              "        action: 'continue',\n",
              "      }\n",
              "    };\n",
              "\n",
              "    // Use a chunked sending to avoid message size limits. See b/62115660.\n",
              "    let position = 0;\n",
              "    do {\n",
              "      const length = Math.min(fileData.byteLength - position, MAX_PAYLOAD_SIZE);\n",
              "      const chunk = new Uint8Array(fileData, position, length);\n",
              "      position += length;\n",
              "\n",
              "      const base64 = btoa(String.fromCharCode.apply(null, chunk));\n",
              "      yield {\n",
              "        response: {\n",
              "          action: 'append',\n",
              "          file: file.name,\n",
              "          data: base64,\n",
              "        },\n",
              "      };\n",
              "\n",
              "      let percentDone = fileData.byteLength === 0 ?\n",
              "          100 :\n",
              "          Math.round((position / fileData.byteLength) * 100);\n",
              "      percent.textContent = `${percentDone}% done`;\n",
              "\n",
              "    } while (position < fileData.byteLength);\n",
              "  }\n",
              "\n",
              "  // All done.\n",
              "  yield {\n",
              "    response: {\n",
              "      action: 'complete',\n",
              "    }\n",
              "  };\n",
              "}\n",
              "\n",
              "scope.google = scope.google || {};\n",
              "scope.google.colab = scope.google.colab || {};\n",
              "scope.google.colab._files = {\n",
              "  _uploadFiles,\n",
              "  _uploadFilesContinue,\n",
              "};\n",
              "})(self);\n",
              "</script> "
            ]
          },
          "metadata": {}
        },
        {
          "output_type": "stream",
          "name": "stdout",
          "text": [
            "Saving medical1.xlsx to medical1 (1).xlsx\n",
            "Лист: medical1\n"
          ]
        },
        {
          "output_type": "display_data",
          "data": {
            "text/plain": [
              "        Id  жашы  жынысы              салмагы  балдар тамеки тартуучу  \\\n",
              "0        1    19  female  2024-09-27 00:00:00       0             yes   \n",
              "1        2    18    male                33.77       1              no   \n",
              "2        3    28    male                   33       3              no   \n",
              "3        4    33    male               22.705       0              no   \n",
              "4        5    32    male                28.88       0              no   \n",
              "...    ...   ...     ...                  ...     ...             ...   \n",
              "1333  1334    50    male                30.97       3              no   \n",
              "1334  1335    18  female                31.92       0              no   \n",
              "1335  1336    18  female                36.85       0              no   \n",
              "1336  1337    21  female  2024-08-25 00:00:00       0              no   \n",
              "1337  1338    61  female  2024-07-29 00:00:00       0             yes   \n",
              "\n",
              "         регион     төлөмдөр  \n",
              "0     southwest  16884.92400  \n",
              "1     southeast   1725.55230  \n",
              "2     southeast   4449.46200  \n",
              "3     northwest  21984.47061  \n",
              "4     northwest   3866.85520  \n",
              "...         ...          ...  \n",
              "1333  northwest  10600.54830  \n",
              "1334  northeast   2205.98080  \n",
              "1335  southeast   1629.83350  \n",
              "1336  southwest   2007.94500  \n",
              "1337  northwest  29141.36030  \n",
              "\n",
              "[1338 rows x 8 columns]"
            ],
            "text/html": [
              "\n",
              "  <div id=\"df-13945749-7e9a-4194-b8af-8a7f3d324ab9\" class=\"colab-df-container\">\n",
              "    <div>\n",
              "<style scoped>\n",
              "    .dataframe tbody tr th:only-of-type {\n",
              "        vertical-align: middle;\n",
              "    }\n",
              "\n",
              "    .dataframe tbody tr th {\n",
              "        vertical-align: top;\n",
              "    }\n",
              "\n",
              "    .dataframe thead th {\n",
              "        text-align: right;\n",
              "    }\n",
              "</style>\n",
              "<table border=\"1\" class=\"dataframe\">\n",
              "  <thead>\n",
              "    <tr style=\"text-align: right;\">\n",
              "      <th></th>\n",
              "      <th>Id</th>\n",
              "      <th>жашы</th>\n",
              "      <th>жынысы</th>\n",
              "      <th>салмагы</th>\n",
              "      <th>балдар</th>\n",
              "      <th>тамеки тартуучу</th>\n",
              "      <th>регион</th>\n",
              "      <th>төлөмдөр</th>\n",
              "    </tr>\n",
              "  </thead>\n",
              "  <tbody>\n",
              "    <tr>\n",
              "      <th>0</th>\n",
              "      <td>1</td>\n",
              "      <td>19</td>\n",
              "      <td>female</td>\n",
              "      <td>2024-09-27 00:00:00</td>\n",
              "      <td>0</td>\n",
              "      <td>yes</td>\n",
              "      <td>southwest</td>\n",
              "      <td>16884.92400</td>\n",
              "    </tr>\n",
              "    <tr>\n",
              "      <th>1</th>\n",
              "      <td>2</td>\n",
              "      <td>18</td>\n",
              "      <td>male</td>\n",
              "      <td>33.77</td>\n",
              "      <td>1</td>\n",
              "      <td>no</td>\n",
              "      <td>southeast</td>\n",
              "      <td>1725.55230</td>\n",
              "    </tr>\n",
              "    <tr>\n",
              "      <th>2</th>\n",
              "      <td>3</td>\n",
              "      <td>28</td>\n",
              "      <td>male</td>\n",
              "      <td>33</td>\n",
              "      <td>3</td>\n",
              "      <td>no</td>\n",
              "      <td>southeast</td>\n",
              "      <td>4449.46200</td>\n",
              "    </tr>\n",
              "    <tr>\n",
              "      <th>3</th>\n",
              "      <td>4</td>\n",
              "      <td>33</td>\n",
              "      <td>male</td>\n",
              "      <td>22.705</td>\n",
              "      <td>0</td>\n",
              "      <td>no</td>\n",
              "      <td>northwest</td>\n",
              "      <td>21984.47061</td>\n",
              "    </tr>\n",
              "    <tr>\n",
              "      <th>4</th>\n",
              "      <td>5</td>\n",
              "      <td>32</td>\n",
              "      <td>male</td>\n",
              "      <td>28.88</td>\n",
              "      <td>0</td>\n",
              "      <td>no</td>\n",
              "      <td>northwest</td>\n",
              "      <td>3866.85520</td>\n",
              "    </tr>\n",
              "    <tr>\n",
              "      <th>...</th>\n",
              "      <td>...</td>\n",
              "      <td>...</td>\n",
              "      <td>...</td>\n",
              "      <td>...</td>\n",
              "      <td>...</td>\n",
              "      <td>...</td>\n",
              "      <td>...</td>\n",
              "      <td>...</td>\n",
              "    </tr>\n",
              "    <tr>\n",
              "      <th>1333</th>\n",
              "      <td>1334</td>\n",
              "      <td>50</td>\n",
              "      <td>male</td>\n",
              "      <td>30.97</td>\n",
              "      <td>3</td>\n",
              "      <td>no</td>\n",
              "      <td>northwest</td>\n",
              "      <td>10600.54830</td>\n",
              "    </tr>\n",
              "    <tr>\n",
              "      <th>1334</th>\n",
              "      <td>1335</td>\n",
              "      <td>18</td>\n",
              "      <td>female</td>\n",
              "      <td>31.92</td>\n",
              "      <td>0</td>\n",
              "      <td>no</td>\n",
              "      <td>northeast</td>\n",
              "      <td>2205.98080</td>\n",
              "    </tr>\n",
              "    <tr>\n",
              "      <th>1335</th>\n",
              "      <td>1336</td>\n",
              "      <td>18</td>\n",
              "      <td>female</td>\n",
              "      <td>36.85</td>\n",
              "      <td>0</td>\n",
              "      <td>no</td>\n",
              "      <td>southeast</td>\n",
              "      <td>1629.83350</td>\n",
              "    </tr>\n",
              "    <tr>\n",
              "      <th>1336</th>\n",
              "      <td>1337</td>\n",
              "      <td>21</td>\n",
              "      <td>female</td>\n",
              "      <td>2024-08-25 00:00:00</td>\n",
              "      <td>0</td>\n",
              "      <td>no</td>\n",
              "      <td>southwest</td>\n",
              "      <td>2007.94500</td>\n",
              "    </tr>\n",
              "    <tr>\n",
              "      <th>1337</th>\n",
              "      <td>1338</td>\n",
              "      <td>61</td>\n",
              "      <td>female</td>\n",
              "      <td>2024-07-29 00:00:00</td>\n",
              "      <td>0</td>\n",
              "      <td>yes</td>\n",
              "      <td>northwest</td>\n",
              "      <td>29141.36030</td>\n",
              "    </tr>\n",
              "  </tbody>\n",
              "</table>\n",
              "<p>1338 rows × 8 columns</p>\n",
              "</div>\n",
              "    <div class=\"colab-df-buttons\">\n",
              "\n",
              "  <div class=\"colab-df-container\">\n",
              "    <button class=\"colab-df-convert\" onclick=\"convertToInteractive('df-13945749-7e9a-4194-b8af-8a7f3d324ab9')\"\n",
              "            title=\"Convert this dataframe to an interactive table.\"\n",
              "            style=\"display:none;\">\n",
              "\n",
              "  <svg xmlns=\"http://www.w3.org/2000/svg\" height=\"24px\" viewBox=\"0 -960 960 960\">\n",
              "    <path d=\"M120-120v-720h720v720H120Zm60-500h600v-160H180v160Zm220 220h160v-160H400v160Zm0 220h160v-160H400v160ZM180-400h160v-160H180v160Zm440 0h160v-160H620v160ZM180-180h160v-160H180v160Zm440 0h160v-160H620v160Z\"/>\n",
              "  </svg>\n",
              "    </button>\n",
              "\n",
              "  <style>\n",
              "    .colab-df-container {\n",
              "      display:flex;\n",
              "      gap: 12px;\n",
              "    }\n",
              "\n",
              "    .colab-df-convert {\n",
              "      background-color: #E8F0FE;\n",
              "      border: none;\n",
              "      border-radius: 50%;\n",
              "      cursor: pointer;\n",
              "      display: none;\n",
              "      fill: #1967D2;\n",
              "      height: 32px;\n",
              "      padding: 0 0 0 0;\n",
              "      width: 32px;\n",
              "    }\n",
              "\n",
              "    .colab-df-convert:hover {\n",
              "      background-color: #E2EBFA;\n",
              "      box-shadow: 0px 1px 2px rgba(60, 64, 67, 0.3), 0px 1px 3px 1px rgba(60, 64, 67, 0.15);\n",
              "      fill: #174EA6;\n",
              "    }\n",
              "\n",
              "    .colab-df-buttons div {\n",
              "      margin-bottom: 4px;\n",
              "    }\n",
              "\n",
              "    [theme=dark] .colab-df-convert {\n",
              "      background-color: #3B4455;\n",
              "      fill: #D2E3FC;\n",
              "    }\n",
              "\n",
              "    [theme=dark] .colab-df-convert:hover {\n",
              "      background-color: #434B5C;\n",
              "      box-shadow: 0px 1px 3px 1px rgba(0, 0, 0, 0.15);\n",
              "      filter: drop-shadow(0px 1px 2px rgba(0, 0, 0, 0.3));\n",
              "      fill: #FFFFFF;\n",
              "    }\n",
              "  </style>\n",
              "\n",
              "    <script>\n",
              "      const buttonEl =\n",
              "        document.querySelector('#df-13945749-7e9a-4194-b8af-8a7f3d324ab9 button.colab-df-convert');\n",
              "      buttonEl.style.display =\n",
              "        google.colab.kernel.accessAllowed ? 'block' : 'none';\n",
              "\n",
              "      async function convertToInteractive(key) {\n",
              "        const element = document.querySelector('#df-13945749-7e9a-4194-b8af-8a7f3d324ab9');\n",
              "        const dataTable =\n",
              "          await google.colab.kernel.invokeFunction('convertToInteractive',\n",
              "                                                    [key], {});\n",
              "        if (!dataTable) return;\n",
              "\n",
              "        const docLinkHtml = 'Like what you see? Visit the ' +\n",
              "          '<a target=\"_blank\" href=https://colab.research.google.com/notebooks/data_table.ipynb>data table notebook</a>'\n",
              "          + ' to learn more about interactive tables.';\n",
              "        element.innerHTML = '';\n",
              "        dataTable['output_type'] = 'display_data';\n",
              "        await google.colab.output.renderOutput(dataTable, element);\n",
              "        const docLink = document.createElement('div');\n",
              "        docLink.innerHTML = docLinkHtml;\n",
              "        element.appendChild(docLink);\n",
              "      }\n",
              "    </script>\n",
              "  </div>\n",
              "\n",
              "\n",
              "<div id=\"df-cec8449f-aca5-4502-b84b-8c3f424fe9a9\">\n",
              "  <button class=\"colab-df-quickchart\" onclick=\"quickchart('df-cec8449f-aca5-4502-b84b-8c3f424fe9a9')\"\n",
              "            title=\"Suggest charts\"\n",
              "            style=\"display:none;\">\n",
              "\n",
              "<svg xmlns=\"http://www.w3.org/2000/svg\" height=\"24px\"viewBox=\"0 0 24 24\"\n",
              "     width=\"24px\">\n",
              "    <g>\n",
              "        <path d=\"M19 3H5c-1.1 0-2 .9-2 2v14c0 1.1.9 2 2 2h14c1.1 0 2-.9 2-2V5c0-1.1-.9-2-2-2zM9 17H7v-7h2v7zm4 0h-2V7h2v10zm4 0h-2v-4h2v4z\"/>\n",
              "    </g>\n",
              "</svg>\n",
              "  </button>\n",
              "\n",
              "<style>\n",
              "  .colab-df-quickchart {\n",
              "      --bg-color: #E8F0FE;\n",
              "      --fill-color: #1967D2;\n",
              "      --hover-bg-color: #E2EBFA;\n",
              "      --hover-fill-color: #174EA6;\n",
              "      --disabled-fill-color: #AAA;\n",
              "      --disabled-bg-color: #DDD;\n",
              "  }\n",
              "\n",
              "  [theme=dark] .colab-df-quickchart {\n",
              "      --bg-color: #3B4455;\n",
              "      --fill-color: #D2E3FC;\n",
              "      --hover-bg-color: #434B5C;\n",
              "      --hover-fill-color: #FFFFFF;\n",
              "      --disabled-bg-color: #3B4455;\n",
              "      --disabled-fill-color: #666;\n",
              "  }\n",
              "\n",
              "  .colab-df-quickchart {\n",
              "    background-color: var(--bg-color);\n",
              "    border: none;\n",
              "    border-radius: 50%;\n",
              "    cursor: pointer;\n",
              "    display: none;\n",
              "    fill: var(--fill-color);\n",
              "    height: 32px;\n",
              "    padding: 0;\n",
              "    width: 32px;\n",
              "  }\n",
              "\n",
              "  .colab-df-quickchart:hover {\n",
              "    background-color: var(--hover-bg-color);\n",
              "    box-shadow: 0 1px 2px rgba(60, 64, 67, 0.3), 0 1px 3px 1px rgba(60, 64, 67, 0.15);\n",
              "    fill: var(--button-hover-fill-color);\n",
              "  }\n",
              "\n",
              "  .colab-df-quickchart-complete:disabled,\n",
              "  .colab-df-quickchart-complete:disabled:hover {\n",
              "    background-color: var(--disabled-bg-color);\n",
              "    fill: var(--disabled-fill-color);\n",
              "    box-shadow: none;\n",
              "  }\n",
              "\n",
              "  .colab-df-spinner {\n",
              "    border: 2px solid var(--fill-color);\n",
              "    border-color: transparent;\n",
              "    border-bottom-color: var(--fill-color);\n",
              "    animation:\n",
              "      spin 1s steps(1) infinite;\n",
              "  }\n",
              "\n",
              "  @keyframes spin {\n",
              "    0% {\n",
              "      border-color: transparent;\n",
              "      border-bottom-color: var(--fill-color);\n",
              "      border-left-color: var(--fill-color);\n",
              "    }\n",
              "    20% {\n",
              "      border-color: transparent;\n",
              "      border-left-color: var(--fill-color);\n",
              "      border-top-color: var(--fill-color);\n",
              "    }\n",
              "    30% {\n",
              "      border-color: transparent;\n",
              "      border-left-color: var(--fill-color);\n",
              "      border-top-color: var(--fill-color);\n",
              "      border-right-color: var(--fill-color);\n",
              "    }\n",
              "    40% {\n",
              "      border-color: transparent;\n",
              "      border-right-color: var(--fill-color);\n",
              "      border-top-color: var(--fill-color);\n",
              "    }\n",
              "    60% {\n",
              "      border-color: transparent;\n",
              "      border-right-color: var(--fill-color);\n",
              "    }\n",
              "    80% {\n",
              "      border-color: transparent;\n",
              "      border-right-color: var(--fill-color);\n",
              "      border-bottom-color: var(--fill-color);\n",
              "    }\n",
              "    90% {\n",
              "      border-color: transparent;\n",
              "      border-bottom-color: var(--fill-color);\n",
              "    }\n",
              "  }\n",
              "</style>\n",
              "\n",
              "  <script>\n",
              "    async function quickchart(key) {\n",
              "      const quickchartButtonEl =\n",
              "        document.querySelector('#' + key + ' button');\n",
              "      quickchartButtonEl.disabled = true;  // To prevent multiple clicks.\n",
              "      quickchartButtonEl.classList.add('colab-df-spinner');\n",
              "      try {\n",
              "        const charts = await google.colab.kernel.invokeFunction(\n",
              "            'suggestCharts', [key], {});\n",
              "      } catch (error) {\n",
              "        console.error('Error during call to suggestCharts:', error);\n",
              "      }\n",
              "      quickchartButtonEl.classList.remove('colab-df-spinner');\n",
              "      quickchartButtonEl.classList.add('colab-df-quickchart-complete');\n",
              "    }\n",
              "    (() => {\n",
              "      let quickchartButtonEl =\n",
              "        document.querySelector('#df-cec8449f-aca5-4502-b84b-8c3f424fe9a9 button');\n",
              "      quickchartButtonEl.style.display =\n",
              "        google.colab.kernel.accessAllowed ? 'block' : 'none';\n",
              "    })();\n",
              "  </script>\n",
              "</div>\n",
              "\n",
              "  <div id=\"id_2031371e-bd53-43d1-b295-f894086011ec\">\n",
              "    <style>\n",
              "      .colab-df-generate {\n",
              "        background-color: #E8F0FE;\n",
              "        border: none;\n",
              "        border-radius: 50%;\n",
              "        cursor: pointer;\n",
              "        display: none;\n",
              "        fill: #1967D2;\n",
              "        height: 32px;\n",
              "        padding: 0 0 0 0;\n",
              "        width: 32px;\n",
              "      }\n",
              "\n",
              "      .colab-df-generate:hover {\n",
              "        background-color: #E2EBFA;\n",
              "        box-shadow: 0px 1px 2px rgba(60, 64, 67, 0.3), 0px 1px 3px 1px rgba(60, 64, 67, 0.15);\n",
              "        fill: #174EA6;\n",
              "      }\n",
              "\n",
              "      [theme=dark] .colab-df-generate {\n",
              "        background-color: #3B4455;\n",
              "        fill: #D2E3FC;\n",
              "      }\n",
              "\n",
              "      [theme=dark] .colab-df-generate:hover {\n",
              "        background-color: #434B5C;\n",
              "        box-shadow: 0px 1px 3px 1px rgba(0, 0, 0, 0.15);\n",
              "        filter: drop-shadow(0px 1px 2px rgba(0, 0, 0, 0.3));\n",
              "        fill: #FFFFFF;\n",
              "      }\n",
              "    </style>\n",
              "    <button class=\"colab-df-generate\" onclick=\"generateWithVariable('data')\"\n",
              "            title=\"Generate code using this dataframe.\"\n",
              "            style=\"display:none;\">\n",
              "\n",
              "  <svg xmlns=\"http://www.w3.org/2000/svg\" height=\"24px\"viewBox=\"0 0 24 24\"\n",
              "       width=\"24px\">\n",
              "    <path d=\"M7,19H8.4L18.45,9,17,7.55,7,17.6ZM5,21V16.75L18.45,3.32a2,2,0,0,1,2.83,0l1.4,1.43a1.91,1.91,0,0,1,.58,1.4,1.91,1.91,0,0,1-.58,1.4L9.25,21ZM18.45,9,17,7.55Zm-12,3A5.31,5.31,0,0,0,4.9,8.1,5.31,5.31,0,0,0,1,6.5,5.31,5.31,0,0,0,4.9,4.9,5.31,5.31,0,0,0,6.5,1,5.31,5.31,0,0,0,8.1,4.9,5.31,5.31,0,0,0,12,6.5,5.46,5.46,0,0,0,6.5,12Z\"/>\n",
              "  </svg>\n",
              "    </button>\n",
              "    <script>\n",
              "      (() => {\n",
              "      const buttonEl =\n",
              "        document.querySelector('#id_2031371e-bd53-43d1-b295-f894086011ec button.colab-df-generate');\n",
              "      buttonEl.style.display =\n",
              "        google.colab.kernel.accessAllowed ? 'block' : 'none';\n",
              "\n",
              "      buttonEl.onclick = () => {\n",
              "        google.colab.notebook.generateWithVariable('data');\n",
              "      }\n",
              "      })();\n",
              "    </script>\n",
              "  </div>\n",
              "\n",
              "    </div>\n",
              "  </div>\n"
            ],
            "application/vnd.google.colaboratory.intrinsic+json": {
              "type": "dataframe",
              "variable_name": "data",
              "summary": "{\n  \"name\": \"data\",\n  \"rows\": 1338,\n  \"fields\": [\n    {\n      \"column\": \"Id\",\n      \"properties\": {\n        \"dtype\": \"number\",\n        \"std\": 386,\n        \"min\": 1,\n        \"max\": 1338,\n        \"num_unique_values\": 1338,\n        \"samples\": [\n          765,\n          888,\n          891\n        ],\n        \"semantic_type\": \"\",\n        \"description\": \"\"\n      }\n    },\n    {\n      \"column\": \"\\u0436\\u0430\\u0448\\u044b\",\n      \"properties\": {\n        \"dtype\": \"number\",\n        \"std\": 14,\n        \"min\": 18,\n        \"max\": 64,\n        \"num_unique_values\": 47,\n        \"samples\": [\n          21,\n          45,\n          36\n        ],\n        \"semantic_type\": \"\",\n        \"description\": \"\"\n      }\n    },\n    {\n      \"column\": \"\\u0436\\u044b\\u043d\\u044b\\u0441\\u044b\",\n      \"properties\": {\n        \"dtype\": \"category\",\n        \"num_unique_values\": 2,\n        \"samples\": [\n          \"male\",\n          \"female\"\n        ],\n        \"semantic_type\": \"\",\n        \"description\": \"\"\n      }\n    },\n    {\n      \"column\": \"\\u0441\\u0430\\u043b\\u043c\\u0430\\u0433\\u044b\",\n      \"properties\": {\n        \"dtype\": \"category\",\n        \"num_unique_values\": 540,\n        \"samples\": [\n          \"34.865\",\n          \"2024-04-27 00:00:00\"\n        ],\n        \"semantic_type\": \"\",\n        \"description\": \"\"\n      }\n    },\n    {\n      \"column\": \"\\u0431\\u0430\\u043b\\u0434\\u0430\\u0440\",\n      \"properties\": {\n        \"dtype\": \"number\",\n        \"std\": 1,\n        \"min\": 0,\n        \"max\": 5,\n        \"num_unique_values\": 6,\n        \"samples\": [\n          0,\n          1\n        ],\n        \"semantic_type\": \"\",\n        \"description\": \"\"\n      }\n    },\n    {\n      \"column\": \"\\u0442\\u0430\\u043c\\u0435\\u043a\\u0438 \\u0442\\u0430\\u0440\\u0442\\u0443\\u0443\\u0447\\u0443\",\n      \"properties\": {\n        \"dtype\": \"category\",\n        \"num_unique_values\": 2,\n        \"samples\": [\n          \"no\",\n          \"yes\"\n        ],\n        \"semantic_type\": \"\",\n        \"description\": \"\"\n      }\n    },\n    {\n      \"column\": \"\\u0440\\u0435\\u0433\\u0438\\u043e\\u043d\",\n      \"properties\": {\n        \"dtype\": \"category\",\n        \"num_unique_values\": 4,\n        \"samples\": [\n          \"southeast\",\n          \"northeast\"\n        ],\n        \"semantic_type\": \"\",\n        \"description\": \"\"\n      }\n    },\n    {\n      \"column\": \"\\u0442\\u04e9\\u043b\\u04e9\\u043c\\u0434\\u04e9\\u0440\",\n      \"properties\": {\n        \"dtype\": \"number\",\n        \"std\": 12110.011236693994,\n        \"min\": 1121.8739,\n        \"max\": 63770.42801,\n        \"num_unique_values\": 1337,\n        \"samples\": [\n          8688.85885,\n          5708.867\n        ],\n        \"semantic_type\": \"\",\n        \"description\": \"\"\n      }\n    }\n  ]\n}"
            }
          },
          "metadata": {}
        }
      ]
    },
    {
      "cell_type": "code",
      "source": [
        "from google.colab import files\n",
        "\n",
        "# Файлды жүктөө\n",
        "uploaded = files.upload()"
      ],
      "metadata": {
        "colab": {
          "base_uri": "https://localhost:8080/",
          "height": 73
        },
        "id": "MziWk_zO2F2H",
        "outputId": "1f9c821a-823a-4775-9e13-c5eba68ee2a9"
      },
      "execution_count": null,
      "outputs": [
        {
          "output_type": "display_data",
          "data": {
            "text/plain": [
              "<IPython.core.display.HTML object>"
            ],
            "text/html": [
              "\n",
              "     <input type=\"file\" id=\"files-a0b50157-f792-407c-8929-eac0ea7e420b\" name=\"files[]\" multiple disabled\n",
              "        style=\"border:none\" />\n",
              "     <output id=\"result-a0b50157-f792-407c-8929-eac0ea7e420b\">\n",
              "      Upload widget is only available when the cell has been executed in the\n",
              "      current browser session. Please rerun this cell to enable.\n",
              "      </output>\n",
              "      <script>// Copyright 2017 Google LLC\n",
              "//\n",
              "// Licensed under the Apache License, Version 2.0 (the \"License\");\n",
              "// you may not use this file except in compliance with the License.\n",
              "// You may obtain a copy of the License at\n",
              "//\n",
              "//      http://www.apache.org/licenses/LICENSE-2.0\n",
              "//\n",
              "// Unless required by applicable law or agreed to in writing, software\n",
              "// distributed under the License is distributed on an \"AS IS\" BASIS,\n",
              "// WITHOUT WARRANTIES OR CONDITIONS OF ANY KIND, either express or implied.\n",
              "// See the License for the specific language governing permissions and\n",
              "// limitations under the License.\n",
              "\n",
              "/**\n",
              " * @fileoverview Helpers for google.colab Python module.\n",
              " */\n",
              "(function(scope) {\n",
              "function span(text, styleAttributes = {}) {\n",
              "  const element = document.createElement('span');\n",
              "  element.textContent = text;\n",
              "  for (const key of Object.keys(styleAttributes)) {\n",
              "    element.style[key] = styleAttributes[key];\n",
              "  }\n",
              "  return element;\n",
              "}\n",
              "\n",
              "// Max number of bytes which will be uploaded at a time.\n",
              "const MAX_PAYLOAD_SIZE = 100 * 1024;\n",
              "\n",
              "function _uploadFiles(inputId, outputId) {\n",
              "  const steps = uploadFilesStep(inputId, outputId);\n",
              "  const outputElement = document.getElementById(outputId);\n",
              "  // Cache steps on the outputElement to make it available for the next call\n",
              "  // to uploadFilesContinue from Python.\n",
              "  outputElement.steps = steps;\n",
              "\n",
              "  return _uploadFilesContinue(outputId);\n",
              "}\n",
              "\n",
              "// This is roughly an async generator (not supported in the browser yet),\n",
              "// where there are multiple asynchronous steps and the Python side is going\n",
              "// to poll for completion of each step.\n",
              "// This uses a Promise to block the python side on completion of each step,\n",
              "// then passes the result of the previous step as the input to the next step.\n",
              "function _uploadFilesContinue(outputId) {\n",
              "  const outputElement = document.getElementById(outputId);\n",
              "  const steps = outputElement.steps;\n",
              "\n",
              "  const next = steps.next(outputElement.lastPromiseValue);\n",
              "  return Promise.resolve(next.value.promise).then((value) => {\n",
              "    // Cache the last promise value to make it available to the next\n",
              "    // step of the generator.\n",
              "    outputElement.lastPromiseValue = value;\n",
              "    return next.value.response;\n",
              "  });\n",
              "}\n",
              "\n",
              "/**\n",
              " * Generator function which is called between each async step of the upload\n",
              " * process.\n",
              " * @param {string} inputId Element ID of the input file picker element.\n",
              " * @param {string} outputId Element ID of the output display.\n",
              " * @return {!Iterable<!Object>} Iterable of next steps.\n",
              " */\n",
              "function* uploadFilesStep(inputId, outputId) {\n",
              "  const inputElement = document.getElementById(inputId);\n",
              "  inputElement.disabled = false;\n",
              "\n",
              "  const outputElement = document.getElementById(outputId);\n",
              "  outputElement.innerHTML = '';\n",
              "\n",
              "  const pickedPromise = new Promise((resolve) => {\n",
              "    inputElement.addEventListener('change', (e) => {\n",
              "      resolve(e.target.files);\n",
              "    });\n",
              "  });\n",
              "\n",
              "  const cancel = document.createElement('button');\n",
              "  inputElement.parentElement.appendChild(cancel);\n",
              "  cancel.textContent = 'Cancel upload';\n",
              "  const cancelPromise = new Promise((resolve) => {\n",
              "    cancel.onclick = () => {\n",
              "      resolve(null);\n",
              "    };\n",
              "  });\n",
              "\n",
              "  // Wait for the user to pick the files.\n",
              "  const files = yield {\n",
              "    promise: Promise.race([pickedPromise, cancelPromise]),\n",
              "    response: {\n",
              "      action: 'starting',\n",
              "    }\n",
              "  };\n",
              "\n",
              "  cancel.remove();\n",
              "\n",
              "  // Disable the input element since further picks are not allowed.\n",
              "  inputElement.disabled = true;\n",
              "\n",
              "  if (!files) {\n",
              "    return {\n",
              "      response: {\n",
              "        action: 'complete',\n",
              "      }\n",
              "    };\n",
              "  }\n",
              "\n",
              "  for (const file of files) {\n",
              "    const li = document.createElement('li');\n",
              "    li.append(span(file.name, {fontWeight: 'bold'}));\n",
              "    li.append(span(\n",
              "        `(${file.type || 'n/a'}) - ${file.size} bytes, ` +\n",
              "        `last modified: ${\n",
              "            file.lastModifiedDate ? file.lastModifiedDate.toLocaleDateString() :\n",
              "                                    'n/a'} - `));\n",
              "    const percent = span('0% done');\n",
              "    li.appendChild(percent);\n",
              "\n",
              "    outputElement.appendChild(li);\n",
              "\n",
              "    const fileDataPromise = new Promise((resolve) => {\n",
              "      const reader = new FileReader();\n",
              "      reader.onload = (e) => {\n",
              "        resolve(e.target.result);\n",
              "      };\n",
              "      reader.readAsArrayBuffer(file);\n",
              "    });\n",
              "    // Wait for the data to be ready.\n",
              "    let fileData = yield {\n",
              "      promise: fileDataPromise,\n",
              "      response: {\n",
              "        action: 'continue',\n",
              "      }\n",
              "    };\n",
              "\n",
              "    // Use a chunked sending to avoid message size limits. See b/62115660.\n",
              "    let position = 0;\n",
              "    do {\n",
              "      const length = Math.min(fileData.byteLength - position, MAX_PAYLOAD_SIZE);\n",
              "      const chunk = new Uint8Array(fileData, position, length);\n",
              "      position += length;\n",
              "\n",
              "      const base64 = btoa(String.fromCharCode.apply(null, chunk));\n",
              "      yield {\n",
              "        response: {\n",
              "          action: 'append',\n",
              "          file: file.name,\n",
              "          data: base64,\n",
              "        },\n",
              "      };\n",
              "\n",
              "      let percentDone = fileData.byteLength === 0 ?\n",
              "          100 :\n",
              "          Math.round((position / fileData.byteLength) * 100);\n",
              "      percent.textContent = `${percentDone}% done`;\n",
              "\n",
              "    } while (position < fileData.byteLength);\n",
              "  }\n",
              "\n",
              "  // All done.\n",
              "  yield {\n",
              "    response: {\n",
              "      action: 'complete',\n",
              "    }\n",
              "  };\n",
              "}\n",
              "\n",
              "scope.google = scope.google || {};\n",
              "scope.google.colab = scope.google.colab || {};\n",
              "scope.google.colab._files = {\n",
              "  _uploadFiles,\n",
              "  _uploadFilesContinue,\n",
              "};\n",
              "})(self);\n",
              "</script> "
            ]
          },
          "metadata": {}
        },
        {
          "output_type": "stream",
          "name": "stdout",
          "text": [
            "Saving medical.csv to medical.csv\n"
          ]
        }
      ]
    },
    {
      "cell_type": "code",
      "source": [
        "print(uploaded.keys())  # Жүктөлгөн файлдын атын көрүү"
      ],
      "metadata": {
        "colab": {
          "base_uri": "https://localhost:8080/"
        },
        "id": "jUyTjYt5H11A",
        "outputId": "d7ba663a-c2bc-44fc-ec3c-f9edfcb9e9f4"
      },
      "execution_count": null,
      "outputs": [
        {
          "output_type": "stream",
          "name": "stdout",
          "text": [
            "dict_keys(['medical.csv'])\n"
          ]
        }
      ]
    },
    {
      "cell_type": "code",
      "source": [
        "# Файлдын атын түздөн-түз колдонуу\n",
        "file_path = 'medical.csv'\n",
        "\n",
        "# Файлды окуу\n",
        "try:\n",
        "    data = np.genfromtxt(file_path, delimiter=',', skip_header=1)\n",
        "    print(data)\n",
        "except Exception as e:\n",
        "    print(\"Файлды окууда ката кетти:\", e)"
      ],
      "metadata": {
        "colab": {
          "base_uri": "https://localhost:8080/"
        },
        "id": "PcT9Qgt4y8IT",
        "outputId": "d876c50f-42ce-48ab-e335-a830680001fe"
      },
      "execution_count": null,
      "outputs": [
        {
          "output_type": "stream",
          "name": "stdout",
          "text": [
            "[[1.00000000e+00 1.90000000e+01            nan ...            nan\n",
            "             nan 1.68849240e+04]\n",
            " [2.00000000e+00 1.80000000e+01            nan ...            nan\n",
            "             nan 1.72555230e+03]\n",
            " [3.00000000e+00 2.80000000e+01            nan ...            nan\n",
            "             nan 4.44946200e+03]\n",
            " ...\n",
            " [1.33600000e+03 1.80000000e+01            nan ...            nan\n",
            "             nan 1.62983350e+03]\n",
            " [1.33700000e+03 2.10000000e+01            nan ...            nan\n",
            "             nan 2.00794500e+03]\n",
            " [1.33800000e+03 6.10000000e+01            nan ...            nan\n",
            "             nan 2.91413603e+04]]\n"
          ]
        }
      ]
    },
    {
      "cell_type": "code",
      "source": [
        "import io\n",
        "# Файлдын аты туура келтирилгенин текшерүү\n",
        "df = pd.read_csv(io.BytesIO(uploaded['medical.csv']))\n",
        "\n",
        "# DataFrameден NumPy массивине айландыруу\n",
        "data = df.to_numpy()\n",
        "\n",
        "# Натыйжаны басып чыгарыңыз\n",
        "print(data)\n",
        "print(df)\n"
      ],
      "metadata": {
        "colab": {
          "base_uri": "https://localhost:8080/"
        },
        "id": "bAnfonydFuxY",
        "outputId": "f0e166a2-f14f-419b-f8b6-102b05cc70ea"
      },
      "execution_count": null,
      "outputs": [
        {
          "output_type": "stream",
          "name": "stdout",
          "text": [
            "[[1 19 'female' ... 'yes' 'southwest' 16884.924]\n",
            " [2 18 'male' ... 'no' 'southeast' 1725.5523]\n",
            " [3 28 'male' ... 'no' 'southeast' 4449.462]\n",
            " ...\n",
            " [1336 18 'female' ... 'no' 'southeast' 1629.8335]\n",
            " [1337 21 'female' ... 'no' 'southwest' 2007.945]\n",
            " [1338 61 'female' ... 'yes' 'northwest' 29141.3603]]\n",
            "        Id  age     sex     bmi  children smoker     region      charges\n",
            "0        1   19  female  27.900         0    yes  southwest  16884.92400\n",
            "1        2   18    male  33.770         1     no  southeast   1725.55230\n",
            "2        3   28    male  33.000         3     no  southeast   4449.46200\n",
            "3        4   33    male  22.705         0     no  northwest  21984.47061\n",
            "4        5   32    male  28.880         0     no  northwest   3866.85520\n",
            "...    ...  ...     ...     ...       ...    ...        ...          ...\n",
            "1333  1334   50    male  30.970         3     no  northwest  10600.54830\n",
            "1334  1335   18  female  31.920         0     no  northeast   2205.98080\n",
            "1335  1336   18  female  36.850         0     no  southeast   1629.83350\n",
            "1336  1337   21  female  25.800         0     no  southwest   2007.94500\n",
            "1337  1338   61  female  29.070         0    yes  northwest  29141.36030\n",
            "\n",
            "[1338 rows x 8 columns]\n"
          ]
        }
      ]
    },
    {
      "cell_type": "code",
      "source": [
        "# столбецтердин аттарын өзгөртүү\n",
        "df = df.rename(columns={'age':'жашы','sex': 'жынысы','bmi':'салмагы','children':'балдар','smoker':'тамеки тартуучу','region':'регион','charges':'төлөмдөр'})\n",
        "df['жынысы'] = df['жынысы'].replace({'female': 'аял', 'male': 'эркек'})\n",
        "df['регион'] = df['регион'].replace({'southwest': 'түштүк-батыш', 'southeast': 'түштүк-чыгыш','northwest': 'түндүк батыш'})\n",
        "print(df)"
      ],
      "metadata": {
        "colab": {
          "base_uri": "https://localhost:8080/"
        },
        "id": "tYBI8C6PRSLn",
        "outputId": "0da30794-4ba5-4273-9bde-2fd2d4be9f02"
      },
      "execution_count": null,
      "outputs": [
        {
          "output_type": "stream",
          "name": "stdout",
          "text": [
            "        Id  жашы жынысы  салмагы  балдар тамеки тартуучу        регион  \\\n",
            "0        1    19    аял   27.900       0             yes  түштүк-батыш   \n",
            "1        2    18  эркек   33.770       1              no  түштүк-чыгыш   \n",
            "2        3    28  эркек   33.000       3              no  түштүк-чыгыш   \n",
            "3        4    33  эркек   22.705       0              no  түндүк батыш   \n",
            "4        5    32  эркек   28.880       0              no  түндүк батыш   \n",
            "...    ...   ...    ...      ...     ...             ...           ...   \n",
            "1333  1334    50  эркек   30.970       3              no  түндүк батыш   \n",
            "1334  1335    18    аял   31.920       0              no     northeast   \n",
            "1335  1336    18    аял   36.850       0              no  түштүк-чыгыш   \n",
            "1336  1337    21    аял   25.800       0              no  түштүк-батыш   \n",
            "1337  1338    61    аял   29.070       0             yes  түндүк батыш   \n",
            "\n",
            "         төлөмдөр  \n",
            "0     16884.92400  \n",
            "1      1725.55230  \n",
            "2      4449.46200  \n",
            "3     21984.47061  \n",
            "4      3866.85520  \n",
            "...           ...  \n",
            "1333  10600.54830  \n",
            "1334   2205.98080  \n",
            "1335   1629.83350  \n",
            "1336   2007.94500  \n",
            "1337  29141.36030  \n",
            "\n",
            "[1338 rows x 8 columns]\n"
          ]
        }
      ]
    },
    {
      "cell_type": "markdown",
      "source": [
        "# Маалыматтарды тазалоо"
      ],
      "metadata": {
        "id": "u-oJ8u7o3dxq"
      }
    },
    {
      "cell_type": "markdown",
      "source": [
        "\n",
        "\n",
        "> 1.Жоголгон же NaN маанилерин оңдоо\n",
        "\n",
        "2.Чектен ашкан маанилерди аныктоо жана жөндөө\n",
        "\n",
        "3.Kерексиз же кайталаган саптарды алып салуу"
      ],
      "metadata": {
        "id": "tSRMsoWKxPQk"
      }
    },
    {
      "cell_type": "code",
      "source": [
        "# Жаш курактын логикалык чектери (0–120)\n",
        "valid_age = (df['жашы'] >= 0) & (df['жашы'] <= 120)\n",
        "\n",
        "# Салмактын логикалык чектери (10–300 кг)\n",
        "valid_weight = (df['салмагы'] >= 10) & (df['салмагы'] <= 300)\n",
        "\n",
        "# Логикалык чектен тышкаркы катарларды алып салуу\n",
        "filtered_df = df[valid_age & valid_weight]\n",
        "\n",
        "print(\"\\nФильтрацияланган маалыматтар:\")\n",
        "print(filtered_df)\n"
      ],
      "metadata": {
        "colab": {
          "base_uri": "https://localhost:8080/"
        },
        "id": "SC0E82Va6S0d",
        "outputId": "fd120e27-0335-4366-d30e-506b9a7871f8"
      },
      "execution_count": null,
      "outputs": [
        {
          "output_type": "stream",
          "name": "stdout",
          "text": [
            "\n",
            "Фильтрацияланган маалыматтар:\n",
            "        Id  жашы жынысы  салмагы  балдар тамеки тартуучу        регион  \\\n",
            "0        1    19    аял   27.900       0             yes  түштүк-батыш   \n",
            "1        2    18  эркек   33.770       1              no  түштүк-чыгыш   \n",
            "2        3    28  эркек   33.000       3              no  түштүк-чыгыш   \n",
            "3        4    33  эркек   22.705       0              no  түндүк батыш   \n",
            "4        5    32  эркек   28.880       0              no  түндүк батыш   \n",
            "...    ...   ...    ...      ...     ...             ...           ...   \n",
            "1333  1334    50  эркек   30.970       3              no  түндүк батыш   \n",
            "1334  1335    18    аял   31.920       0              no     northeast   \n",
            "1335  1336    18    аял   36.850       0              no  түштүк-чыгыш   \n",
            "1336  1337    21    аял   25.800       0              no  түштүк-батыш   \n",
            "1337  1338    61    аял   29.070       0             yes  түндүк батыш   \n",
            "\n",
            "         төлөмдөр  \n",
            "0     16884.92400  \n",
            "1      1725.55230  \n",
            "2      4449.46200  \n",
            "3     21984.47061  \n",
            "4      3866.85520  \n",
            "...           ...  \n",
            "1333  10600.54830  \n",
            "1334   2205.98080  \n",
            "1335   1629.83350  \n",
            "1336   2007.94500  \n",
            "1337  29141.36030  \n",
            "\n",
            "[1338 rows x 8 columns]\n"
          ]
        }
      ]
    },
    {
      "cell_type": "code",
      "source": [
        "# NaN маанилерин текшерүү\n",
        "nan_count = df.isna().sum().sum()\n",
        "print(f\"NaN маанилери: {nan_count} бар\")\n"
      ],
      "metadata": {
        "colab": {
          "base_uri": "https://localhost:8080/"
        },
        "id": "9sH0uAdY3gqO",
        "outputId": "fd47b1d9-771f-429e-fc43-79c5be994d22"
      },
      "execution_count": null,
      "outputs": [
        {
          "output_type": "stream",
          "name": "stdout",
          "text": [
            "NaN маанилери: 0 бар\n"
          ]
        }
      ]
    },
    {
      "cell_type": "code",
      "source": [
        "print(df.info())  # Маалыматтардын абалы\n",
        "print(df.head())  # Бир нече жазуулардын натыйжасы"
      ],
      "metadata": {
        "colab": {
          "base_uri": "https://localhost:8080/"
        },
        "id": "Ukt0iYxhOnNO",
        "outputId": "4653820c-311d-4c45-81ee-4f5353c99058"
      },
      "execution_count": null,
      "outputs": [
        {
          "output_type": "stream",
          "name": "stdout",
          "text": [
            "<class 'pandas.core.frame.DataFrame'>\n",
            "RangeIndex: 1338 entries, 0 to 1337\n",
            "Data columns (total 8 columns):\n",
            " #   Column           Non-Null Count  Dtype  \n",
            "---  ------           --------------  -----  \n",
            " 0   Id               1338 non-null   int64  \n",
            " 1   жашы             1338 non-null   int64  \n",
            " 2   жынысы           1338 non-null   object \n",
            " 3   салмагы          1338 non-null   float64\n",
            " 4   балдар           1338 non-null   int64  \n",
            " 5   тамеки тартуучу  1338 non-null   object \n",
            " 6   регион           1338 non-null   object \n",
            " 7   төлөмдөр         1338 non-null   float64\n",
            "dtypes: float64(2), int64(3), object(3)\n",
            "memory usage: 83.8+ KB\n",
            "None\n",
            "   Id  жашы жынысы  салмагы  балдар тамеки тартуучу        регион     төлөмдөр\n",
            "0   1    19    аял   27.900       0             yes  түштүк-батыш  16884.92400\n",
            "1   2    18  эркек   33.770       1              no  түштүк-чыгыш   1725.55230\n",
            "2   3    28  эркек   33.000       3              no  түштүк-чыгыш   4449.46200\n",
            "3   4    33  эркек   22.705       0              no  түндүк батыш  21984.47061\n",
            "4   5    32  эркек   28.880       0              no  түндүк батыш   3866.85520\n"
          ]
        }
      ]
    },
    {
      "cell_type": "markdown",
      "source": [
        "#Статистика жана анализ"
      ],
      "metadata": {
        "id": "ohSVpYUJ-fZ-"
      }
    },
    {
      "cell_type": "code",
      "source": [
        "# Категориялык өзгөрмөлөрдүн статистикасын алуу\n",
        "print(df['жынысы'].value_counts())\n",
        "print(df['тамеки тартуучу'].value_counts())\n",
        "print(df['регион'].value_counts())"
      ],
      "metadata": {
        "colab": {
          "base_uri": "https://localhost:8080/"
        },
        "id": "YvR3fcGpcEje",
        "outputId": "bd6d229f-86e3-426a-e55e-e0bd36350e48"
      },
      "execution_count": null,
      "outputs": [
        {
          "output_type": "stream",
          "name": "stdout",
          "text": [
            "жынысы\n",
            "эркек    676\n",
            "аял      662\n",
            "Name: count, dtype: int64\n",
            "тамеки тартуучу\n",
            "no     1064\n",
            "yes     274\n",
            "Name: count, dtype: int64\n",
            "регион\n",
            "түштүк-чыгыш    364\n",
            "түштүк-батыш    325\n",
            "түндүк батыш    325\n",
            "northeast       324\n",
            "Name: count, dtype: int64\n"
          ]
        }
      ]
    },
    {
      "cell_type": "code",
      "source": [
        "# Столбецтердин корреляциясын алуу\n",
        "#Сандык маалыматтарды гана тандайбыз\n",
        "numerical_df = df.select_dtypes(include=['number'])\n",
        "\n",
        "correlation_matrix = numerical_df.corr()\n",
        "\n",
        "# Корреляция матрицасы\n",
        "print(correlation_matrix)"
      ],
      "metadata": {
        "colab": {
          "base_uri": "https://localhost:8080/"
        },
        "id": "mLgKAeQQcY1V",
        "outputId": "cbe09846-9223-4fbb-f8a8-84fd986ae2f5"
      },
      "execution_count": null,
      "outputs": [
        {
          "output_type": "stream",
          "name": "stdout",
          "text": [
            "                Id      жашы   салмагы    балдар  төлөмдөр\n",
            "Id        1.000000 -0.031467 -0.036169  0.025221 -0.003373\n",
            "жашы     -0.031467  1.000000  0.109272  0.042469  0.299008\n",
            "салмагы  -0.036169  0.109272  1.000000  0.012759  0.198341\n",
            "балдар    0.025221  0.042469  0.012759  1.000000  0.067998\n",
            "төлөмдөр -0.003373  0.299008  0.198341  0.067998  1.000000\n"
          ]
        }
      ]
    },
    {
      "cell_type": "code",
      "source": [
        "тамеки_тартуучу = df[df['тамеки тартуучу'] == 'yes']['төлөмдөр']\n",
        "чекпегендер = df[df['тамеки тартуучу'] == 'no']['төлөмдөр']"
      ],
      "metadata": {
        "id": "h-N9qAap4QLQ"
      },
      "execution_count": null,
      "outputs": []
    },
    {
      "cell_type": "code",
      "source": [
        "# Орточо төлөмдөр\n",
        "тамеки_орточо = np.mean(тамеки_тартуучу)\n",
        "чекпегендер_орточо = np.mean(чекпегендер)\n",
        "\n",
        "# Басып чыгаруу\n",
        "print(\"Тамеки тарткандардын орточо төлөмү:\", round(тамеки_орточо, 2))\n",
        "print(\"Чекпегендердин орточо төлөмү:\", round(чекпегендер_орточо, 2))\n",
        "\n",
        "# Статистикалык анализ\n",
        "print(\"\\nТамеки тарткандар:\")\n",
        "print(тамеки_тартуучу.describe())\n",
        "\n",
        "print(\"\\nЧекпегендер:\")\n",
        "print(чекпегендер.describe())"
      ],
      "metadata": {
        "colab": {
          "base_uri": "https://localhost:8080/"
        },
        "id": "DKtON6S143DH",
        "outputId": "7f2d4d2d-01d9-47ac-e92f-88cd92047e5d"
      },
      "execution_count": null,
      "outputs": [
        {
          "output_type": "stream",
          "name": "stdout",
          "text": [
            "Тамеки тарткандардын орточо төлөмү: 32050.23\n",
            "Чекпегендердин орточо төлөмү: 8434.27\n",
            "\n",
            "Тамеки тарткандар:\n",
            "count      274.000000\n",
            "mean     32050.231832\n",
            "std      11541.547176\n",
            "min      12829.455100\n",
            "25%      20826.244213\n",
            "50%      34456.348450\n",
            "75%      41019.207275\n",
            "max      63770.428010\n",
            "Name: төлөмдөр, dtype: float64\n",
            "\n",
            "Чекпегендер:\n",
            "count     1064.000000\n",
            "mean      8434.268298\n",
            "std       5993.781819\n",
            "min       1121.873900\n",
            "25%       3986.438700\n",
            "50%       7345.405300\n",
            "75%      11362.887050\n",
            "max      36910.608030\n",
            "Name: төлөмдөр, dtype: float64\n"
          ]
        }
      ]
    },
    {
      "cell_type": "code",
      "source": [
        "# Гистограммаларды түзүү\n",
        "plt.figure(figsize=(12, 6))\n",
        "sns.histplot(тамеки_тартуучу, color='red', label='Тамеки тарткандар', kde=True)\n",
        "sns.histplot(чекпегендер, color='blue', label='Чекпегендер', kde=True)\n",
        "plt.title('Тамеки тарткандардын жана чекпегендердин төлөмдөрү')\n",
        "plt.xlabel('Төлөмдөр')\n",
        "plt.ylabel('Катышуучулардын саны')\n",
        "plt.legend()\n",
        "plt.show()"
      ],
      "metadata": {
        "colab": {
          "base_uri": "https://localhost:8080/",
          "height": 564
        },
        "id": "k2EuF6jD5Cmm",
        "outputId": "194516a2-c9e4-4f4a-91b8-f34b44a5711b"
      },
      "execution_count": null,
      "outputs": [
        {
          "output_type": "display_data",
          "data": {
            "text/plain": [
              "<Figure size 1200x600 with 1 Axes>"
            ],
            "image/png": "[encoded data removed]"
          },
          "metadata": {}
        }
      ]
    },
    {
      "cell_type": "code",
      "source": [
        "# Орточо, минималдык жана максималдык төлөмдөр\n",
        "average_payment = df['төлөмдөр'].mean()\n",
        "min_payment = df['төлөмдөр'].min()\n",
        "max_payment = df['төлөмдөр'].max()\n",
        "\n",
        "print(\"Орточо төлөм:\", average_payment)\n",
        "print(\"Минималдык төлөм:\", min_payment)\n",
        "print(\"Максималдык төлөм:\", max_payment)"
      ],
      "metadata": {
        "colab": {
          "base_uri": "https://localhost:8080/"
        },
        "id": "_i5SEl7ozuKs",
        "outputId": "deaccf09-acab-4149-ab77-7d8cf9423586"
      },
      "execution_count": null,
      "outputs": [
        {
          "output_type": "stream",
          "name": "stdout",
          "text": [
            "Орточо төлөм: 13270.422265141257\n",
            "Минималдык төлөм: 1121.8739\n",
            "Максималдык төлөм: 63770.42801\n"
          ]
        }
      ]
    },
    {
      "cell_type": "code",
      "source": [
        "# Гистограмма түзүү\n",
        "sns.histplot(df['төлөмдөр'], kde=True, bins=10)\n",
        "\n",
        "# Тема жана аталыктарды кошуу\n",
        "plt.title('Балдар боюнча төлөмдөрдүн бөлүштүрүлүшү')\n",
        "plt.xlabel('Төлөмдөр')\n",
        "plt.ylabel('Чыгымдардын саны')\n",
        "\n",
        "plt.show()"
      ],
      "metadata": {
        "colab": {
          "base_uri": "https://localhost:8080/",
          "height": 472
        },
        "id": "EoKzUCdR0KVj",
        "outputId": "92ad85c0-02e5-41e5-b756-f0bd5056becd"
      },
      "execution_count": null,
      "outputs": [
        {
          "output_type": "display_data",
          "data": {
            "text/plain": [
              "<Figure size 640x480 with 1 Axes>"
            ],
            "image/png": "[encoded data removed]"
          },
          "metadata": {}
        }
      ]
    },
    {
      "cell_type": "code",
      "source": [
        "салмак = df['салмагы']\n",
        "төлөмдөр = df['төлөмдөр']\n",
        "балдар = df['балдар']\n",
        "жаш = df['жашы'] # 'жашы' тилкесин dfден алып, 'жаш' өзгөрмөсүнө дайындаңыз\n",
        "\n",
        "# Жаш жана салмак ортосундагы корреляция\n",
        "corr_age_bmi = np.corrcoef(жаш, салмак)[0, 1]\n",
        "print(f\"Жаш жана салмак ортосундагы корреляция: {corr_age_bmi:.2f}\")\n",
        "\n",
        "# Төлөмдөр жана тамеки тартуу ортосундагы корреляция\n",
        "corr_charges_smoker = np.corrcoef(төлөмдөр, тамеки_тартуу)[0, 1]\n",
        "print(f\"Төлөмдөр жана тамеки тартуу ортосундагы корреляция: {corr_charges_smoker:.2f}\")\n",
        "\n",
        "# Балдардын саны жана медициналык чыгымдар ортосундагы корреляция\n",
        "corr_children_charges = np.corrcoef(балдар, төлөмдөр)[0, 1]\n",
        "print(f\"Балдардын саны жана медициналык чыгымдар ортосундагы корреляция: {corr_children_charges:.2f}\")"
      ],
      "metadata": {
        "colab": {
          "base_uri": "https://localhost:8080/"
        },
        "id": "BEFD4q5v2BUd",
        "outputId": "e8f4a2a6-2fd1-4854-8a14-8be447d5e1f2"
      },
      "execution_count": null,
      "outputs": [
        {
          "output_type": "stream",
          "name": "stdout",
          "text": [
            "Жаш жана салмак ортосундагы корреляция: 0.11\n",
            "Төлөмдөр жана тамеки тартуу ортосундагы корреляция: 0.79\n",
            "Балдардын саны жана медициналык чыгымдар ортосундагы корреляция: 0.07\n"
          ]
        }
      ]
    },
    {
      "cell_type": "markdown",
      "source": [
        "Ар бир корреляция коэффициенти чыгат, ал өзгөрмөлөрдүн ортосунда оң, терс же нөлдүк байланыш бар экенин көрсөтөт:\n",
        "\n",
        "+1 - күчтүү оң байланыш.\n",
        "\n",
        "-1 - күчтүү терс байланыш.\n",
        "\n",
        "0 - байланыш жок."
      ],
      "metadata": {
        "id": "soztG5WP2oXh"
      }
    },
    {
      "cell_type": "code",
      "source": [
        "# Региондор боюнча орточо салмак жана төлөмдөрдүн бөлүштүрүлүшү\n",
        "region_summary = df.groupby('регион')[['салмагы', 'төлөмдөр']].mean()\n",
        "print(\"Региондор боюнча орточо салмак жана төлөмдөр:\")\n",
        "print(region_summary)\n",
        "\n",
        "# Региондордо тамеки тартуучулардын саны\n",
        "region_smokers = df.groupby('регион')['тамеки тартуучу'].value_counts().unstack()\n",
        "print(\"\\nРегиондор боюнча тамеки тартуучулардын саны:\")\n",
        "print(region_smokers)\n",
        "\n",
        "# Региондордо жаш топторунун бөлүштүрүлүшү\n",
        "df['жаш_топтору'] = pd.cut(df['жашы'], bins=[0, 18, 35, 50, 65], labels=['Жаштар', 'Орто жаштар', 'Эр жеткендер', 'Улуулар'])\n",
        "print(\"\\nРегиондордо жаш топторунун бөлүштүрүлүшү:\")\n",
        "print(region_age_groups)"
      ],
      "metadata": {
        "colab": {
          "base_uri": "https://localhost:8080/"
        },
        "id": "nlzjuGzX3tr_",
        "outputId": "2070e646-8a0a-4c92-ac0a-177513914c0b"
      },
      "execution_count": null,
      "outputs": [
        {
          "output_type": "stream",
          "name": "stdout",
          "text": [
            "Региондор боюнча орточо салмак жана төлөмдөр:\n",
            "                салмагы      төлөмдөр\n",
            "регион                               \n",
            "northeast     29.173503  13406.384516\n",
            "түндүк батыш  29.199785  12417.575374\n",
            "түштүк-батыш  30.596615  12346.937377\n",
            "түштүк-чыгыш  33.355989  14735.411438\n",
            "\n",
            "Региондор боюнча тамеки тартуучулардын саны:\n",
            "тамеки тартуучу   no  yes\n",
            "регион                   \n",
            "northeast        257   67\n",
            "түндүк батыш     267   58\n",
            "түштүк-батыш     267   58\n",
            "түштүк-чыгыш     273   91\n",
            "\n",
            "Региондордо жаш топторунун бөлүштүрүлүшү:\n",
            "жаш_топтору   Жаштар  Орто жаштар  Эр жеткендер  Улуулар\n",
            "регион                                                  \n",
            "northeast         32          105           100       87\n",
            "түндүк батыш       0          140            98       87\n",
            "түштүк-батыш       0          139            98       88\n",
            "түштүк-чыгыш      37          121           112       94\n"
          ]
        }
      ]
    },
    {
      "cell_type": "code",
      "source": [
        "# Салмак боюнча гистограмма түзүү\n",
        "df['салмагы'].hist(bins=20, color='skyblue', edgecolor='black')\n",
        "\n",
        "# Графиктин аталышын жана белгисин коюу\n",
        "plt.title('Салмак боюнча гистограмма')\n",
        "plt.xlabel('Салмак')\n",
        "plt.ylabel('Таралуу')\n",
        "\n",
        "# Графикти көрсөтүү\n",
        "plt.show()"
      ],
      "metadata": {
        "colab": {
          "base_uri": "https://localhost:8080/",
          "height": 472
        },
        "id": "mL-OtnFhgeAG",
        "outputId": "f60e747a-6b12-4efc-d930-c25c869f92f9"
      },
      "execution_count": null,
      "outputs": [
        {
          "output_type": "display_data",
          "data": {
            "text/plain": [
              "<Figure size 640x480 with 1 Axes>"
            ],
            "image/png": "[encoded data removed]"
          },
          "metadata": {}
        }
      ]
    },
    {
      "cell_type": "markdown",
      "source": [
        "**Пирогалык диаграмма**"
      ],
      "metadata": {
        "id": "UC3S0oMvn7Sw"
      }
    },
    {
      "cell_type": "code",
      "source": [
        "# Жынысы боюнча бөлүштүрүүнү алуу\n",
        "gender_counts = df['жынысы'].value_counts()\n",
        "\n",
        "# Пирогалык диаграмма түзүү\n",
        "gender_counts.plot(kind='pie', autopct='%1.1f%%', colors=['skyblue', 'pink'])\n",
        "\n",
        "# Графиктин аталышын коюу\n",
        "plt.title('Жынысы боюнча бөлүштүрүү')\n",
        "\n",
        "# Графикти көрсөтүү\n",
        "plt.show()"
      ],
      "metadata": {
        "colab": {
          "base_uri": "https://localhost:8080/",
          "height": 429
        },
        "id": "1x2TVFGcoYgt",
        "outputId": "b68286ac-8b07-469a-be3e-038b3f84461d"
      },
      "execution_count": null,
      "outputs": [
        {
          "output_type": "display_data",
          "data": {
            "text/plain": [
              "<Figure size 640x480 with 1 Axes>"
            ],
            "image/png": "[encoded data removed]"
          },
          "metadata": {}
        }
      ]
    }
  ]
}